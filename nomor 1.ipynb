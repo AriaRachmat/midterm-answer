{
 "cells": [
  {
   "cell_type": "code",
   "execution_count": 1,
   "id": "6543efe7",
   "metadata": {},
   "outputs": [
    {
     "name": "stdout",
     "output_type": "stream",
     "text": [
      "masukkan x keberapa yang ingin dilihat: \n",
      "5\n",
      "data ke- 5 adalah:\n",
      "3\n",
      "panjang data ini adalah: 20\n"
     ]
    }
   ],
   "source": [
    "X = [4,7,5,1,3,6,4,8,5,7,2,5,6,3,9,6,8,5,7,4]\n",
    "\n",
    "print('masukkan x keberapa yang ingin dilihat: ')\n",
    "rawr = input()\n",
    "x =int(rawr)\n",
    "print('data ke-',x,'adalah:')\n",
    "print(X[x-1])\n",
    "\n",
    "print('panjang data ini adalah:', len(X))"
   ]
  },
  {
   "cell_type": "code",
   "execution_count": 2,
   "id": "33710935",
   "metadata": {},
   "outputs": [
    {
     "name": "stdout",
     "output_type": "stream",
     "text": [
      "X yang sudah diurutkan dari terkecil ke terbesar adalah:\n",
      "[1, 2, 3, 3, 4, 4, 4, 5, 5, 5, 5, 6, 6, 6, 7, 7, 7, 8, 8, 9]\n",
      "rata-rata dari X adalah: 5.25\n",
      "nilai tengah dari X adalah: 5.0\n",
      "modus dari X adalah: 5\n"
     ]
    }
   ],
   "source": [
    "Xsorted = (sorted(X))\n",
    "xmean = sum(X)/len(X)\n",
    "\n",
    "print('X yang sudah diurutkan dari terkecil ke terbesar adalah:')\n",
    "print(Xsorted)\n",
    "print('rata-rata dari X adalah:',xmean)\n",
    "\n",
    "x11 = int(len(Xsorted)/2)+1 \n",
    "x10 = int((len(Xsorted)/2))\n",
    "xmed = ((Xsorted[x10-1]+Xsorted[x11-1])/2)\n",
    "print('nilai tengah dari X adalah:', xmed)\n",
    "\n",
    "from statistics import mode\n",
    "\n",
    "print('modus dari X adalah:',mode(X))"
   ]
  },
  {
   "cell_type": "code",
   "execution_count": 3,
   "id": "03a65032",
   "metadata": {},
   "outputs": [
    {
     "name": "stdout",
     "output_type": "stream",
     "text": [
      "nilai minimum X adalah: 1\n",
      "nilai maksimum X adalah: 9\n",
      "range nilai X adalah 8\n"
     ]
    }
   ],
   "source": [
    "xmin = Xsorted[0]\n",
    "xmax = Xsorted[len(Xsorted)-1]\n",
    "print('nilai minimum X adalah:', xmin)\n",
    "print('nilai maksimum X adalah:',xmax)\n",
    "xrange = xmax - xmin\n",
    "print ('range nilai X adalah', xrange)"
   ]
  },
  {
   "cell_type": "code",
   "execution_count": 125,
   "id": "263467c6",
   "metadata": {},
   "outputs": [
    {
     "name": "stdout",
     "output_type": "stream",
     "text": [
      "standar deviasi X adalah: 2.0994986870303363\n",
      "variansi X adalah: 4.407894736842106\n"
     ]
    }
   ],
   "source": [
    "import math\n",
    "\n",
    "meow = []\n",
    "for x in X:\n",
    "    meow.append((x-xmean)**2)\n",
    "\n",
    "stdev = math.sqrt(sum(meow)/(len(X)-1))\n",
    "print('standar deviasi X adalah:', stdev)\n",
    "\n",
    "variance = stdev ** 2\n",
    "print('variansi X adalah:', variance)\n"
   ]
  }
 ],
 "metadata": {
  "kernelspec": {
   "display_name": "Python 3 (ipykernel)",
   "language": "python",
   "name": "python3"
  },
  "language_info": {
   "codemirror_mode": {
    "name": "ipython",
    "version": 3
   },
   "file_extension": ".py",
   "mimetype": "text/x-python",
   "name": "python",
   "nbconvert_exporter": "python",
   "pygments_lexer": "ipython3",
   "version": "3.10.6"
  }
 },
 "nbformat": 4,
 "nbformat_minor": 5
}
